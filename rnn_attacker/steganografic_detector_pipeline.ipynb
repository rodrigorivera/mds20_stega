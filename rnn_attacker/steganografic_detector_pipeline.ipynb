{
 "cells": [
  {
   "cell_type": "markdown",
   "metadata": {
    "id": "CiDsWSUOxVOz"
   },
   "source": [
    "# Example of pipeline of work with Steganografic Detector"
   ]
  },
  {
   "cell_type": "code",
   "execution_count": 1,
   "metadata": {
    "colab": {
     "base_uri": "https://localhost:8080/"
    },
    "id": "G4xaYELNxZB-",
    "outputId": "ad87ebdb-da97-40a5-a73c-73ec46b9e2a1",
    "scrolled": true
   },
   "outputs": [
    {
     "name": "stdout",
     "output_type": "stream",
     "text": [
      "Requirement already satisfied: transformers in /usr/local/lib/python3.6/dist-packages (2.9.0)\n",
      "Requirement already satisfied: filelock in /usr/local/lib/python3.6/dist-packages (from transformers) (3.0.12)\n",
      "Requirement already satisfied: tokenizers==0.7.0 in /usr/local/lib/python3.6/dist-packages (from transformers) (0.7.0)\n",
      "Requirement already satisfied: sentencepiece in /usr/local/lib/python3.6/dist-packages (from transformers) (0.1.92)\n",
      "Requirement already satisfied: requests in /usr/local/lib/python3.6/dist-packages (from transformers) (2.24.0)\n",
      "Requirement already satisfied: dataclasses; python_version < \"3.7\" in /usr/local/lib/python3.6/dist-packages (from transformers) (0.6)\n",
      "Requirement already satisfied: tqdm>=4.27 in /usr/local/lib/python3.6/dist-packages (from transformers) (4.48.2)\n",
      "Requirement already satisfied: sacremoses in /usr/local/lib/python3.6/dist-packages (from transformers) (0.0.43)\n",
      "Requirement already satisfied: regex!=2019.12.17 in /usr/local/lib/python3.6/dist-packages (from transformers) (2020.7.14)\n",
      "Requirement already satisfied: numpy in /usr/local/lib/python3.6/dist-packages (from transformers) (1.19.1)\n",
      "Requirement already satisfied: idna<3,>=2.5 in /usr/local/lib/python3.6/dist-packages (from requests->transformers) (2.10)\n",
      "Requirement already satisfied: chardet<4,>=3.0.2 in /usr/local/lib/python3.6/dist-packages (from requests->transformers) (3.0.4)\n",
      "Requirement already satisfied: urllib3!=1.25.0,!=1.25.1,<1.26,>=1.21.1 in /usr/local/lib/python3.6/dist-packages (from requests->transformers) (1.25.10)\n",
      "Requirement already satisfied: certifi>=2017.4.17 in /usr/local/lib/python3.6/dist-packages (from requests->transformers) (2020.6.20)\n",
      "Requirement already satisfied: click in /usr/local/lib/python3.6/dist-packages (from sacremoses->transformers) (7.1.2)\n",
      "Requirement already satisfied: six in /usr/local/lib/python3.6/dist-packages (from sacremoses->transformers) (1.15.0)\n",
      "Requirement already satisfied: joblib in /usr/local/lib/python3.6/dist-packages (from sacremoses->transformers) (0.16.0)\n",
      "\u001b[33mWARNING: You are using pip version 20.2.4; however, version 20.3.1 is available.\n",
      "You should consider upgrading via the '/usr/bin/python3 -m pip install --upgrade pip' command.\u001b[0m\n"
     ]
    }
   ],
   "source": [
    "! pip install transformers"
   ]
  },
  {
   "cell_type": "code",
   "execution_count": 2,
   "metadata": {
    "colab": {
     "base_uri": "https://localhost:8080/"
    },
    "id": "mlrx2D09bYjr",
    "outputId": "5050731c-2ece-4809-fafd-4665b2393157",
    "scrolled": true
   },
   "outputs": [
    {
     "name": "stdout",
     "output_type": "stream",
     "text": [
      "Requirement already satisfied: en_core_web_sm==2.2.5 from https://github.com/explosion/spacy-models/releases/download/en_core_web_sm-2.2.5/en_core_web_sm-2.2.5.tar.gz#egg=en_core_web_sm==2.2.5 in /usr/local/lib/python3.6/dist-packages (2.2.5)\n",
      "Requirement already satisfied: spacy>=2.2.2 in /usr/local/lib/python3.6/dist-packages (from en_core_web_sm==2.2.5) (2.2.4)\n",
      "Requirement already satisfied: thinc==7.4.0 in /usr/local/lib/python3.6/dist-packages (from spacy>=2.2.2->en_core_web_sm==2.2.5) (7.4.0)\n",
      "Requirement already satisfied: srsly<1.1.0,>=1.0.2 in /usr/local/lib/python3.6/dist-packages (from spacy>=2.2.2->en_core_web_sm==2.2.5) (1.0.2)\n",
      "Requirement already satisfied: preshed<3.1.0,>=3.0.2 in /usr/local/lib/python3.6/dist-packages (from spacy>=2.2.2->en_core_web_sm==2.2.5) (3.0.2)\n",
      "Requirement already satisfied: wasabi<1.1.0,>=0.4.0 in /usr/local/lib/python3.6/dist-packages (from spacy>=2.2.2->en_core_web_sm==2.2.5) (0.7.1)\n",
      "Requirement already satisfied: requests<3.0.0,>=2.13.0 in /usr/local/lib/python3.6/dist-packages (from spacy>=2.2.2->en_core_web_sm==2.2.5) (2.24.0)\n",
      "Requirement already satisfied: catalogue<1.1.0,>=0.0.7 in /usr/local/lib/python3.6/dist-packages (from spacy>=2.2.2->en_core_web_sm==2.2.5) (1.0.0)\n",
      "Requirement already satisfied: numpy>=1.15.0 in /usr/local/lib/python3.6/dist-packages (from spacy>=2.2.2->en_core_web_sm==2.2.5) (1.19.1)\n",
      "Requirement already satisfied: murmurhash<1.1.0,>=0.28.0 in /usr/local/lib/python3.6/dist-packages (from spacy>=2.2.2->en_core_web_sm==2.2.5) (1.0.2)\n",
      "Requirement already satisfied: tqdm<5.0.0,>=4.38.0 in /usr/local/lib/python3.6/dist-packages (from spacy>=2.2.2->en_core_web_sm==2.2.5) (4.48.2)\n",
      "Requirement already satisfied: blis<0.5.0,>=0.4.0 in /usr/local/lib/python3.6/dist-packages (from spacy>=2.2.2->en_core_web_sm==2.2.5) (0.4.1)\n",
      "Requirement already satisfied: cymem<2.1.0,>=2.0.2 in /usr/local/lib/python3.6/dist-packages (from spacy>=2.2.2->en_core_web_sm==2.2.5) (2.0.3)\n",
      "Requirement already satisfied: setuptools in /usr/lib/python3/dist-packages (from spacy>=2.2.2->en_core_web_sm==2.2.5) (39.0.1)\n",
      "Requirement already satisfied: plac<1.2.0,>=0.9.6 in /usr/local/lib/python3.6/dist-packages (from spacy>=2.2.2->en_core_web_sm==2.2.5) (1.1.3)\n",
      "Requirement already satisfied: idna<3,>=2.5 in /usr/local/lib/python3.6/dist-packages (from requests<3.0.0,>=2.13.0->spacy>=2.2.2->en_core_web_sm==2.2.5) (2.10)\n",
      "Requirement already satisfied: chardet<4,>=3.0.2 in /usr/local/lib/python3.6/dist-packages (from requests<3.0.0,>=2.13.0->spacy>=2.2.2->en_core_web_sm==2.2.5) (3.0.4)\n",
      "Requirement already satisfied: certifi>=2017.4.17 in /usr/local/lib/python3.6/dist-packages (from requests<3.0.0,>=2.13.0->spacy>=2.2.2->en_core_web_sm==2.2.5) (2020.6.20)\n",
      "Requirement already satisfied: urllib3!=1.25.0,!=1.25.1,<1.26,>=1.21.1 in /usr/local/lib/python3.6/dist-packages (from requests<3.0.0,>=2.13.0->spacy>=2.2.2->en_core_web_sm==2.2.5) (1.25.10)\n",
      "Requirement already satisfied: importlib-metadata>=0.20; python_version < \"3.8\" in /usr/local/lib/python3.6/dist-packages (from catalogue<1.1.0,>=0.0.7->spacy>=2.2.2->en_core_web_sm==2.2.5) (1.7.0)\n",
      "Requirement already satisfied: zipp>=0.5 in /usr/local/lib/python3.6/dist-packages (from importlib-metadata>=0.20; python_version < \"3.8\"->catalogue<1.1.0,>=0.0.7->spacy>=2.2.2->en_core_web_sm==2.2.5) (3.1.0)\n",
      "\u001b[33mWARNING: You are using pip version 20.2.4; however, version 20.3.1 is available.\n",
      "You should consider upgrading via the '/usr/bin/python -m pip install --upgrade pip' command.\u001b[0m\n",
      "\u001b[38;5;2m✔ Download and installation successful\u001b[0m\n",
      "You can now load the model via spacy.load('en_core_web_sm')\n",
      "\u001b[38;5;2m✔ Linking successful\u001b[0m\n",
      "/usr/local/lib/python3.6/dist-packages/en_core_web_sm -->\n",
      "/usr/local/lib/python3.6/dist-packages/spacy/data/en\n",
      "You can now load the model via spacy.load('en')\n"
     ]
    }
   ],
   "source": [
    "import torch\n",
    "import torch.nn as nn\n",
    "import torch.optim as optim\n",
    "\n",
    "from torchtext.datasets import IMDB\n",
    "from torchtext.data import Field, LabelField, BucketIterator, TabularDataset\n",
    "\n",
    "import spacy\n",
    "\n",
    "import numpy as np\n",
    "\n",
    "import random\n",
    "import math\n",
    "import time\n",
    "\n",
    "from tqdm import tqdm\n",
    "\n",
    "from sklearn.metrics import roc_auc_score\n",
    "\n",
    "import json\n",
    "\n",
    "SEED = 1234\n",
    "\n",
    "random.seed(SEED)\n",
    "torch.manual_seed(SEED)\n",
    "torch.backends.cudnn.deterministic = True\n",
    "\n",
    "! python -m spacy download en\n",
    "\n",
    "spacy_en = spacy.load('en')"
   ]
  },
  {
   "cell_type": "code",
   "execution_count": 303,
   "metadata": {
    "id": "xLSMNxeIfLVn"
   },
   "outputs": [],
   "source": [
    "def tokenize_en(text):\n",
    "    \"\"\"\n",
    "    Tokenizes English text from a string into a list of strings (tokens)\n",
    "    \"\"\"\n",
    "    return [tok.text for tok in spacy_en.tokenizer(text)]\n",
    "\n",
    "SRC = Field(tokenize = tokenize_en, \n",
    "            init_token = '<sos>',\n",
    "            eos_token = '<eos>',\n",
    "            lower = True)\n",
    "\n",
    "# should be 0 if the sentence is natural and 1 if this is encoded\n",
    "LABEL = LabelField(dtype = torch.float)"
   ]
  },
  {
   "cell_type": "markdown",
   "metadata": {
    "id": "6ZHwkIn_4eW8"
   },
   "source": [
    "Loading a custom dataset"
   ]
  },
  {
   "cell_type": "code",
   "execution_count": 304,
   "metadata": {
    "id": "YxqfXSIE4dzy"
   },
   "outputs": [],
   "source": [
    "fields = {'text': (\"text\",SRC), 'label': (\"label\",LABEL)}"
   ]
  },
  {
   "cell_type": "code",
   "execution_count": null,
   "metadata": {
    "id": "ftdR7N6p4j8e"
   },
   "outputs": [],
   "source": [
    "gen_data, = TabularDataset.splits(\n",
    "                            path = '.',\n",
    "                            root=\".\",\n",
    "                            train = './data/attacker_dataVLC_2.json',\n",
    "                            format = 'json',\n",
    "                            fields = fields\n",
    ")"
   ]
  },
  {
   "cell_type": "code",
   "execution_count": 306,
   "metadata": {},
   "outputs": [],
   "source": [
    "train_data, valid_data = gen_data.split(random_state = random.seed(SEED))"
   ]
  },
  {
   "cell_type": "code",
   "execution_count": 307,
   "metadata": {
    "id": "Y9lQH0I-73-O"
   },
   "outputs": [],
   "source": [
    "MAX_VOCAB_SIZE = 15_000\n",
    "\n",
    "SRC.build_vocab(train_data, \n",
    "                 max_size = MAX_VOCAB_SIZE,\n",
    "                 vectors = \"glove.6B.100d\", \n",
    "                 unk_init = torch.Tensor.normal_)\n",
    "\n",
    "LABEL.build_vocab(train_data)"
   ]
  },
  {
   "cell_type": "code",
   "execution_count": 308,
   "metadata": {
    "colab": {
     "base_uri": "https://localhost:8080/"
    },
    "id": "JiaQEdiWjseA",
    "outputId": "af6c81c5-e3c1-4887-f1ee-1db07680ea04"
   },
   "outputs": [
    {
     "data": {
      "text/plain": [
       "device(type='cuda')"
      ]
     },
     "execution_count": 308,
     "metadata": {},
     "output_type": "execute_result"
    }
   ],
   "source": [
    "BATCH_SIZE = 64\n",
    "\n",
    "device = torch.device('cuda' if torch.cuda.is_available() else 'cpu')\n",
    "device"
   ]
  },
  {
   "cell_type": "code",
   "execution_count": 309,
   "metadata": {
    "id": "iiY1fpb7iiMN"
   },
   "outputs": [],
   "source": [
    "train_iterator, valid_iterator = BucketIterator.splits(\n",
    "    (train_data, valid_data), \n",
    "    batch_size = BATCH_SIZE,\n",
    "    sort_key=lambda x: len(x.text), # the BucketIterator needs to be told what function it should use to group the data.\n",
    "    sort_within_batch=False,\n",
    "    device = device)\n"
   ]
  },
  {
   "cell_type": "code",
   "execution_count": null,
   "metadata": {},
   "outputs": [],
   "source": [
    "from model import RNNStegaDetector"
   ]
  },
  {
   "cell_type": "code",
   "execution_count": 311,
   "metadata": {
    "id": "cy4M8UL1oEPn"
   },
   "outputs": [],
   "source": [
    "model = RNNStegaDetector(batch_size=BATCH_SIZE, \n",
    "            output_size=1, \n",
    "            hidden_size=100, \n",
    "            vocab_size=len(SRC.vocab), \n",
    "            n_layers=2,\n",
    "            embedding_length=80,\n",
    "            pad_idx=SRC.vocab.stoi[SRC.pad_token], \n",
    "            dropout=0.5, \n",
    "            bidirectional=True)"
   ]
  },
  {
   "cell_type": "code",
   "execution_count": 312,
   "metadata": {
    "colab": {
     "base_uri": "https://localhost:8080/"
    },
    "id": "A7m0gin8o16-",
    "outputId": "12139cef-2d2b-4894-d071-411965b372e7"
   },
   "outputs": [
    {
     "name": "stdout",
     "output_type": "stream",
     "text": [
      "The model has 1,587,721 trainable parameters\n"
     ]
    }
   ],
   "source": [
    "def count_parameters(model):\n",
    "    return sum(p.numel() for p in model.parameters() if p.requires_grad)\n",
    "\n",
    "print(f'The model has {count_parameters(model):,} trainable parameters')"
   ]
  },
  {
   "cell_type": "code",
   "execution_count": 313,
   "metadata": {
    "colab": {
     "base_uri": "https://localhost:8080/"
    },
    "id": "dMqJODYNqQCP",
    "outputId": "a8b69c14-1d03-4d89-e75f-1e6338d29ebb"
   },
   "outputs": [
    {
     "name": "stdout",
     "output_type": "stream",
     "text": [
      "torch.Size([15004, 100])\n"
     ]
    }
   ],
   "source": [
    "pretrained_embeddings = SRC.vocab.vectors\n",
    "\n",
    "print(pretrained_embeddings.shape)"
   ]
  },
  {
   "cell_type": "markdown",
   "metadata": {
    "id": "wsZITsP8xhYy"
   },
   "source": [
    "Training procedure for the detector"
   ]
  },
  {
   "cell_type": "code",
   "execution_count": 314,
   "metadata": {
    "id": "E8PChuE5qUrZ"
   },
   "outputs": [],
   "source": [
    "def train(model, iterator, optimizer, criterion):\n",
    "    \n",
    "    epoch_loss = 0\n",
    "    epoch_acc = 0\n",
    "\n",
    "    model.train()\n",
    "\n",
    "    for batch in iterator:  \n",
    "        optimizer.zero_grad()\n",
    "\n",
    "        # print(batch.text)\n",
    "        # text, text_lengths = batch.text\n",
    "        text = batch.text\n",
    "\n",
    "        predictions = model(text).squeeze(1)\n",
    "\n",
    "        loss = criterion(predictions, batch.label)\n",
    "\n",
    "        rounded_preds = torch.round(torch.sigmoid(predictions))\n",
    "        correct = (rounded_preds == batch.label).float()\n",
    "        acc = correct.sum() / len(correct)\n",
    "\n",
    "        loss.backward()\n",
    "\n",
    "        optimizer.step()\n",
    "\n",
    "        epoch_loss += loss.item()\n",
    "        epoch_acc += acc.item()\n",
    "\n",
    "    return epoch_loss / len(iterator), epoch_acc / len(iterator)"
   ]
  },
  {
   "cell_type": "code",
   "execution_count": 315,
   "metadata": {
    "id": "j6sF9HPgqzq1"
   },
   "outputs": [],
   "source": [
    "def evaluate(model, iterator, criterion):\n",
    "    epoch_loss = 0\n",
    "    epoch_acc = 0\n",
    "    \n",
    "    roc_auc = 0\n",
    "    all_target = []\n",
    "    all_pred_probs = []\n",
    "\n",
    "    model.eval()\n",
    "\n",
    "    with torch.no_grad():\n",
    "\n",
    "        for batch in iterator: \n",
    "            text = batch.text\n",
    "            predictions = model(text).squeeze(1)\n",
    "\n",
    "            loss = criterion(predictions, batch.label)\n",
    "\n",
    "            rounded_preds = torch.round(torch.sigmoid(predictions))\n",
    "            correct = (rounded_preds == batch.label).float()\n",
    "            acc = correct.sum() / len(correct)\n",
    "\n",
    "            epoch_loss += loss.item()\n",
    "            epoch_acc += acc.item()\n",
    "            \n",
    "            all_target.extend(batch.label.tolist())\n",
    "            all_pred_probs.extend(torch.sigmoid(predictions).tolist())\n",
    "\n",
    "\n",
    "    roc_auc = roc_auc_score(all_target, all_pred_probs)\n",
    "\n",
    "    return epoch_loss / len(iterator), epoch_acc / len(iterator), roc_auc"
   ]
  },
  {
   "cell_type": "code",
   "execution_count": 316,
   "metadata": {
    "id": "aj9qzG55toiK"
   },
   "outputs": [],
   "source": [
    "criterion = nn.BCEWithLogitsLoss()\n",
    "\n",
    "model = model.to(device)\n",
    "criterion = criterion.to(device)\n",
    "\n",
    "optimizer = torch.optim.Adam(model.parameters())"
   ]
  },
  {
   "cell_type": "code",
   "execution_count": 117,
   "metadata": {},
   "outputs": [],
   "source": [
    "import warnings\n",
    "warnings.filterwarnings('ignore')"
   ]
  },
  {
   "cell_type": "code",
   "execution_count": 317,
   "metadata": {
    "scrolled": true
   },
   "outputs": [
    {
     "name": "stdout",
     "output_type": "stream",
     "text": [
      "Epoch: 01 | Epoch Time: 6.007275819778442 s\n",
      "\tTrain Loss: 0.654 | Train Acc: 68.82%\n",
      "\t Val. Loss: 0.525 |  Val. Acc: 76.35% | ROC AUC:0.928\n",
      "Epoch: 02 | Epoch Time: 5.981096982955933 s\n",
      "\tTrain Loss: 0.363 | Train Acc: 85.70%\n",
      "\t Val. Loss: 0.319 |  Val. Acc: 88.70% | ROC AUC:0.964\n",
      "Epoch: 03 | Epoch Time: 5.819183826446533 s\n",
      "\tTrain Loss: 0.267 | Train Acc: 89.74%\n",
      "\t Val. Loss: 0.297 |  Val. Acc: 89.38% | ROC AUC:0.978\n",
      "Epoch: 04 | Epoch Time: 6.15967583656311 s\n",
      "\tTrain Loss: 0.185 | Train Acc: 93.29%\n",
      "\t Val. Loss: 0.158 |  Val. Acc: 95.68% | ROC AUC:0.991\n",
      "Epoch: 05 | Epoch Time: 5.949137210845947 s\n",
      "\tTrain Loss: 0.242 | Train Acc: 91.04%\n",
      "\t Val. Loss: 0.307 |  Val. Acc: 87.50% | ROC AUC:0.982\n",
      "Epoch: 06 | Epoch Time: 6.439775228500366 s\n",
      "\tTrain Loss: 0.185 | Train Acc: 93.43%\n",
      "\t Val. Loss: 0.164 |  Val. Acc: 94.53% | ROC AUC:0.990\n",
      "Epoch: 07 | Epoch Time: 6.23667049407959 s\n",
      "\tTrain Loss: 0.121 | Train Acc: 96.22%\n",
      "\t Val. Loss: 0.547 |  Val. Acc: 87.55% | ROC AUC:0.873\n",
      "Epoch: 08 | Epoch Time: 5.582756519317627 s\n",
      "\tTrain Loss: 0.141 | Train Acc: 94.95%\n",
      "\t Val. Loss: 0.193 |  Val. Acc: 92.66% | ROC AUC:0.994\n",
      "Epoch: 09 | Epoch Time: 5.6914238929748535 s\n",
      "\tTrain Loss: 0.123 | Train Acc: 95.51%\n",
      "\t Val. Loss: 0.112 |  Val. Acc: 96.61% | ROC AUC:0.998\n",
      "Epoch: 10 | Epoch Time: 5.621890544891357 s\n",
      "\tTrain Loss: 0.063 | Train Acc: 97.85%\n",
      "\t Val. Loss: 0.243 |  Val. Acc: 94.43% | ROC AUC:0.973\n",
      "Epoch: 11 | Epoch Time: 5.705686330795288 s\n",
      "\tTrain Loss: 0.075 | Train Acc: 97.72%\n",
      "\t Val. Loss: 0.149 |  Val. Acc: 94.79% | ROC AUC:0.997\n",
      "Epoch: 12 | Epoch Time: 5.650045394897461 s\n",
      "\tTrain Loss: 0.059 | Train Acc: 97.87%\n",
      "\t Val. Loss: 0.227 |  Val. Acc: 93.18% | ROC AUC:0.996\n",
      "Epoch: 13 | Epoch Time: 5.652442932128906 s\n",
      "\tTrain Loss: 0.063 | Train Acc: 97.78%\n",
      "\t Val. Loss: 0.156 |  Val. Acc: 95.21% | ROC AUC:0.998\n",
      "Epoch: 14 | Epoch Time: 5.820506811141968 s\n",
      "\tTrain Loss: 0.065 | Train Acc: 97.58%\n",
      "\t Val. Loss: 0.125 |  Val. Acc: 95.36% | ROC AUC:0.999\n",
      "Epoch: 15 | Epoch Time: 6.560098648071289 s\n",
      "\tTrain Loss: 0.043 | Train Acc: 98.29%\n",
      "\t Val. Loss: 0.053 |  Val. Acc: 98.33% | ROC AUC:0.999\n",
      "Epoch: 16 | Epoch Time: 5.835020065307617 s\n",
      "\tTrain Loss: 0.035 | Train Acc: 99.08%\n",
      "\t Val. Loss: 0.115 |  Val. Acc: 94.90% | ROC AUC:0.999\n",
      "Epoch: 17 | Epoch Time: 5.616061210632324 s\n",
      "\tTrain Loss: 0.029 | Train Acc: 99.00%\n",
      "\t Val. Loss: 0.032 |  Val. Acc: 98.80% | ROC AUC:1.000\n",
      "Epoch: 18 | Epoch Time: 5.355841636657715 s\n",
      "\tTrain Loss: 0.093 | Train Acc: 96.73%\n",
      "\t Val. Loss: 0.110 |  Val. Acc: 96.20% | ROC AUC:0.994\n",
      "Epoch: 19 | Epoch Time: 5.674038887023926 s\n",
      "\tTrain Loss: 0.072 | Train Acc: 97.56%\n",
      "\t Val. Loss: 0.051 |  Val. Acc: 98.18% | ROC AUC:0.999\n",
      "Epoch: 20 | Epoch Time: 5.908988952636719 s\n",
      "\tTrain Loss: 0.096 | Train Acc: 97.02%\n",
      "\t Val. Loss: 0.057 |  Val. Acc: 98.59% | ROC AUC:0.999\n",
      "Epoch: 21 | Epoch Time: 5.999395132064819 s\n",
      "\tTrain Loss: 0.041 | Train Acc: 98.71%\n",
      "\t Val. Loss: 0.044 |  Val. Acc: 98.49% | ROC AUC:0.999\n",
      "Epoch: 22 | Epoch Time: 5.802664518356323 s\n",
      "\tTrain Loss: 0.031 | Train Acc: 99.14%\n",
      "\t Val. Loss: 0.065 |  Val. Acc: 97.19% | ROC AUC:0.999\n",
      "Epoch: 23 | Epoch Time: 5.894491910934448 s\n",
      "\tTrain Loss: 0.025 | Train Acc: 99.42%\n",
      "\t Val. Loss: 0.028 |  Val. Acc: 99.22% | ROC AUC:1.000\n",
      "Epoch: 24 | Epoch Time: 6.614987134933472 s\n",
      "\tTrain Loss: 0.038 | Train Acc: 98.86%\n",
      "\t Val. Loss: 0.079 |  Val. Acc: 97.40% | ROC AUC:1.000\n",
      "Epoch: 25 | Epoch Time: 5.978418588638306 s\n",
      "\tTrain Loss: 0.018 | Train Acc: 99.64%\n",
      "\t Val. Loss: 0.034 |  Val. Acc: 98.39% | ROC AUC:1.000\n",
      "Epoch: 26 | Epoch Time: 5.45499062538147 s\n",
      "\tTrain Loss: 0.019 | Train Acc: 99.36%\n",
      "\t Val. Loss: 0.041 |  Val. Acc: 98.07% | ROC AUC:0.999\n",
      "Epoch: 27 | Epoch Time: 5.703308343887329 s\n",
      "\tTrain Loss: 0.016 | Train Acc: 99.43%\n",
      "\t Val. Loss: 0.059 |  Val. Acc: 97.34% | ROC AUC:1.000\n",
      "Epoch: 28 | Epoch Time: 5.582396030426025 s\n",
      "\tTrain Loss: 0.031 | Train Acc: 99.15%\n",
      "\t Val. Loss: 0.032 |  Val. Acc: 98.96% | ROC AUC:1.000\n",
      "Epoch: 29 | Epoch Time: 5.754521369934082 s\n",
      "\tTrain Loss: 0.015 | Train Acc: 99.50%\n",
      "\t Val. Loss: 0.017 |  Val. Acc: 99.38% | ROC AUC:1.000\n",
      "Epoch: 30 | Epoch Time: 5.429735422134399 s\n",
      "\tTrain Loss: 0.142 | Train Acc: 95.67%\n",
      "\t Val. Loss: 0.164 |  Val. Acc: 93.02% | ROC AUC:0.987\n"
     ]
    }
   ],
   "source": [
    "#vlc2\n",
    "N_EPOCHS = 30\n",
    "\n",
    "for epoch in range(N_EPOCHS):\n",
    "\n",
    "    start_time = time.time()\n",
    "    \n",
    "    train_loss, train_acc = train(model, train_iterator, optimizer, criterion)\n",
    "    valid_loss, valid_acc, valid_roc_auc = evaluate(model, valid_iterator, criterion)\n",
    "    \n",
    "    end_time = time.time()\n",
    "\n",
    "    # epoch_mins, epoch_secs = epoch_time(start_time, end_time)\n",
    "\n",
    "    \n",
    "    print(f'Epoch: {epoch+1:02} | Epoch Time: {end_time - start_time} s')\n",
    "    print(f'\\tTrain Loss: {train_loss:.3f} | Train Acc: {train_acc*100:.2f}%')\n",
    "    print(f'\\t Val. Loss: {valid_loss:.3f} |  Val. Acc: {valid_acc*100:.2f}% | ROC AUC:{valid_roc_auc:.3f}')\n",
    "    \n",
    "model = model.eval()    \n",
    "torch.save(model, 'models/attacker_vlc2.pth')"
   ]
  },
  {
   "cell_type": "code",
   "execution_count": null,
   "metadata": {},
   "outputs": [],
   "source": [
    "(93.02, 0.987)"
   ]
  }
 ],
 "metadata": {
  "accelerator": "GPU",
  "colab": {
   "collapsed_sections": [],
   "name": "steganografic_detector_pipeline.ipynb",
   "provenance": [],
   "toc_visible": true
  },
  "kernelspec": {
   "display_name": "Python 3",
   "language": "python",
   "name": "python3"
  },
  "language_info": {
   "codemirror_mode": {
    "name": "ipython",
    "version": 3
   },
   "file_extension": ".py",
   "mimetype": "text/x-python",
   "name": "python",
   "nbconvert_exporter": "python",
   "pygments_lexer": "ipython3",
   "version": "3.7.6"
  }
 },
 "nbformat": 4,
 "nbformat_minor": 1
}
