{
  "nbformat": 4,
  "nbformat_minor": 0,
  "metadata": {
    "colab": {
      "name": "steganografic_detector_pipeline.ipynb",
      "provenance": [],
      "collapsed_sections": []
    },
    "kernelspec": {
      "name": "python3",
      "display_name": "Python 3"
    },
    "accelerator": "GPU"
  },
  "cells": [
    {
      "cell_type": "markdown",
      "metadata": {
        "id": "CiDsWSUOxVOz"
      },
      "source": [
        "# Example of pipeline of work with Steganografic Detector"
      ]
    },
    {
      "cell_type": "code",
      "metadata": {
        "id": "mlrx2D09bYjr"
      },
      "source": [
        "import torch\n",
        "import torch.nn as nn\n",
        "import torch.optim as optim\n",
        "\n",
        "from torchtext.datasets import IMDB\n",
        "from torchtext.data import Field, LabelField, BucketIterator\n",
        "\n",
        "import spacy\n",
        "\n",
        "import random\n",
        "import math\n",
        "import time\n",
        "\n",
        "SEED = 1234\n",
        "\n",
        "random.seed(SEED)\n",
        "torch.manual_seed(SEED)\n",
        "torch.backends.cudnn.deterministic = True\n",
        "\n",
        "! python -m spacy download en\n",
        "\n",
        "spacy_en = spacy.load('en')"
      ],
      "execution_count": null,
      "outputs": []
    },
    {
      "cell_type": "code",
      "metadata": {
        "id": "xLSMNxeIfLVn"
      },
      "source": [
        "def tokenize_en(text):\n",
        "    \"\"\"\n",
        "    Tokenizes English text from a string into a list of strings (tokens)\n",
        "    \"\"\"\n",
        "    return [tok.text for tok in spacy_en.tokenizer(text)]\n",
        "\n",
        "SRC = Field(tokenize = tokenize_en, \n",
        "            init_token = '<sos>',\n",
        "            eos_token = '<eos>', \n",
        "            lower = True)\n",
        "\n",
        "# should be 0 if the sentence is natural and 1 if this is encoded\n",
        "LABEL = LabelField(dtype = torch.float)"
      ],
      "execution_count": 13,
      "outputs": []
    },
    {
      "cell_type": "code",
      "metadata": {
        "colab": {
          "base_uri": "https://localhost:8080/"
        },
        "id": "uOIqv8A4x8HM",
        "outputId": "7091a2f7-ac90-4a6a-b87d-57fe2e50b82a"
      },
      "source": [
        "tokenize_en(\"Hello, my name is Ilya\")"
      ],
      "execution_count": 72,
      "outputs": [
        {
          "output_type": "execute_result",
          "data": {
            "text/plain": [
              "['Hello', ',', 'my', 'name', 'is', 'Ilya']"
            ]
          },
          "metadata": {
            "tags": []
          },
          "execution_count": 72
        }
      ]
    },
    {
      "cell_type": "markdown",
      "metadata": {
        "id": "jGzmeB4dx5mN"
      },
      "source": [
        "Using of IMDB dataset as an example"
      ]
    },
    {
      "cell_type": "code",
      "metadata": {
        "id": "7FgSh1ytf9fX"
      },
      "source": [
        "train_data, test_data = IMDB.splits(SRC, LABEL)\n",
        "\n",
        "train_data, valid_data = train_data.split(random_state = random.seed(SEED))"
      ],
      "execution_count": 17,
      "outputs": []
    },
    {
      "cell_type": "code",
      "metadata": {
        "colab": {
          "base_uri": "https://localhost:8080/"
        },
        "id": "CK2l7fDVhpNA",
        "outputId": "6e769b8e-8be3-4ae9-d0cd-b68d027eb4da"
      },
      "source": [
        "MAX_VOCAB_SIZE = 25_000\n",
        "\n",
        "SRC.build_vocab(train_data, \n",
        "                 max_size = MAX_VOCAB_SIZE, \n",
        "                 vectors = \"glove.6B.100d\", \n",
        "                 unk_init = torch.Tensor.normal_)\n",
        "\n",
        "LABEL.build_vocab(train_data)"
      ],
      "execution_count": 21,
      "outputs": [
        {
          "output_type": "stream",
          "text": [
            ".vector_cache/glove.6B.zip: 862MB [06:30, 2.21MB/s]                           \n",
            "100%|█████████▉| 399690/400000 [00:17<00:00, 21710.92it/s]"
          ],
          "name": "stderr"
        }
      ]
    },
    {
      "cell_type": "code",
      "metadata": {
        "id": "JiaQEdiWjseA"
      },
      "source": [
        "BATCH_SIZE = 64\n",
        "\n",
        "device = torch.device('cuda' if torch.cuda.is_available() else 'cpu')"
      ],
      "execution_count": 22,
      "outputs": []
    },
    {
      "cell_type": "code",
      "metadata": {
        "id": "iiY1fpb7iiMN"
      },
      "source": [
        "train_iterator, valid_iterator, test_iterator = BucketIterator.splits(\n",
        "    (train_data, valid_data, test_data), \n",
        "    batch_size = BATCH_SIZE,\n",
        "    sort_within_batch = True,\n",
        "    device = device)\n"
      ],
      "execution_count": 24,
      "outputs": []
    },
    {
      "cell_type": "code",
      "metadata": {
        "id": "hpCchlDhyMl9"
      },
      "source": [
        "from model import RNNStegaDetector"
      ],
      "execution_count": null,
      "outputs": []
    },
    {
      "cell_type": "code",
      "metadata": {
        "id": "cy4M8UL1oEPn"
      },
      "source": [
        "model = RNNStegaDetector(batch_size=BATCH_SIZE, \n",
        "            output_size=1, \n",
        "            hidden_size=256, \n",
        "            vocab_size=len(SRC.vocab), \n",
        "            n_layers=2,\n",
        "            embedding_length=100, \n",
        "            pad_idx=SRC.vocab.stoi[SRC.pad_token], \n",
        "            dropout=0.5, \n",
        "            bidirectional=True)"
      ],
      "execution_count": 40,
      "outputs": []
    },
    {
      "cell_type": "code",
      "metadata": {
        "colab": {
          "base_uri": "https://localhost:8080/"
        },
        "id": "A7m0gin8o16-",
        "outputId": "49e07726-1c03-43bc-a5ec-570a39f7ce78"
      },
      "source": [
        "def count_parameters(model):\n",
        "    return sum(p.numel() for p in model.parameters() if p.requires_grad)\n",
        "\n",
        "print(f'The model has {count_parameters(model):,} trainable parameters')"
      ],
      "execution_count": 41,
      "outputs": [
        {
          "output_type": "stream",
          "text": [
            "The model has 4,811,057 trainable parameters\n"
          ],
          "name": "stdout"
        }
      ]
    },
    {
      "cell_type": "code",
      "metadata": {
        "colab": {
          "base_uri": "https://localhost:8080/"
        },
        "id": "dMqJODYNqQCP",
        "outputId": "2248f514-9620-4ccd-d6e9-d24fe424462b"
      },
      "source": [
        "pretrained_embeddings = SRC.vocab.vectors\n",
        "\n",
        "print(pretrained_embeddings.shape)"
      ],
      "execution_count": 43,
      "outputs": [
        {
          "output_type": "stream",
          "text": [
            "torch.Size([25004, 100])\n"
          ],
          "name": "stdout"
        }
      ]
    },
    {
      "cell_type": "markdown",
      "metadata": {
        "id": "wsZITsP8xhYy"
      },
      "source": [
        "Example of training procedure\n"
      ]
    },
    {
      "cell_type": "code",
      "metadata": {
        "id": "E8PChuE5qUrZ"
      },
      "source": [
        "def train(model, iterator, optimizer, criterion):\n",
        "    \n",
        "  epoch_loss = 0\n",
        "  epoch_acc = 0\n",
        "  \n",
        "  model.train()\n",
        "  \n",
        "  for batch in iterator:  \n",
        "    optimizer.zero_grad()\n",
        "\n",
        "    print(batch.text.size())\n",
        "    text, text_lengths = batch.text\n",
        "    \n",
        "    predictions = model(text, text_lengths).squeeze(1)\n",
        "    \n",
        "    loss = criterion(predictions, batch.label)\n",
        "    \n",
        "    acc = binary_accuracy(predictions, batch.label)\n",
        "    \n",
        "    loss.backward()\n",
        "    \n",
        "    optimizer.step()\n",
        "    \n",
        "    epoch_loss += loss.item()\n",
        "    epoch_acc += acc.item()\n",
        "      \n",
        "  return epoch_loss / len(iterator), epoch_acc / len(iterator)"
      ],
      "execution_count": 68,
      "outputs": []
    },
    {
      "cell_type": "code",
      "metadata": {
        "id": "j6sF9HPgqzq1"
      },
      "source": [
        "def evaluate(model, iterator, criterion):\n",
        "    \n",
        "  epoch_loss = 0\n",
        "  epoch_acc = 0\n",
        "  \n",
        "  model.eval()\n",
        "  \n",
        "  with torch.no_grad():\n",
        "  \n",
        "    for batch in iterator: \n",
        "      text = batch.text\n",
        "      predictions = model(text, text_lengths).squeeze(1)\n",
        "      \n",
        "      loss = criterion(predictions, batch.label)\n",
        "                  \n",
        "      rounded_preds = torch.round(torch.sigmoid(predictions))\n",
        "      correct = (rounded_preds == batch.label).float()\n",
        "      acc = correct.sum() / len(correct)\n",
        "\n",
        "      epoch_loss += loss.item()\n",
        "      epoch_acc += acc.item()\n",
        "      \n",
        "  return epoch_loss / len(iterator), epoch_acc / len(iterator)"
      ],
      "execution_count": 69,
      "outputs": []
    },
    {
      "cell_type": "code",
      "metadata": {
        "id": "aj9qzG55toiK"
      },
      "source": [
        "criterion = nn.BCEWithLogitsLoss()\n",
        "\n",
        "model = model.to(device)\n",
        "criterion = criterion.to(device)\n",
        "\n",
        "optimizer = torch.optim.Adam(model.parameters())"
      ],
      "execution_count": 70,
      "outputs": []
    },
    {
      "cell_type": "code",
      "metadata": {
        "id": "iHrtyPmSsKx-"
      },
      "source": [
        "N_EPOCHS = 5\n",
        "\n",
        "for epoch in range(N_EPOCHS):\n",
        "\n",
        "    start_time = time.time()\n",
        "    \n",
        "    train_loss, train_acc = train(model, train_iterator, optimizer, criterion)\n",
        "    valid_loss, valid_acc = evaluate(model, valid_iterator, criterion)\n",
        "    \n",
        "    end_time = time.time()\n",
        "\n",
        "    epoch_mins, epoch_secs = epoch_time(start_time, end_time)\n",
        "\n",
        "    \n",
        "    print(f'Epoch: {epoch+1:02} | Epoch Time: {epoch_mins}m {epoch_secs}s')\n",
        "    print(f'\\tTrain Loss: {train_loss:.3f} | Train Acc: {train_acc*100:.2f}%')\n",
        "    print(f'\\t Val. Loss: {valid_loss:.3f} |  Val. Acc: {valid_acc*100:.2f}%')"
      ],
      "execution_count": null,
      "outputs": []
    },
    {
      "cell_type": "code",
      "metadata": {
        "id": "4_OHEL44ubhd"
      },
      "source": [
        ""
      ],
      "execution_count": null,
      "outputs": []
    }
  ]
}